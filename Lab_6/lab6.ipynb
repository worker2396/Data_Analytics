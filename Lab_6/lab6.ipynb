{
  "cells": [
    {
      "cell_type": "markdown",
      "id": "90454e95",
      "metadata": {
        "id": "90454e95"
      },
      "source": [
        "# Lab 6 - Gaussian Process"
      ]
    },
    {
      "cell_type": "markdown",
      "id": "eb2010f5",
      "metadata": {
        "id": "eb2010f5"
      },
      "source": [
        "In general, Gaussian Process (GP) is a stochastic process used for modeling data, which were observed over time, space or both. Main thing that can characterise GP is that is a kind of generalization of normal probability distributions, where each of them describes a random variable (scalar or vector if we deal with multivariate distribution).\n",
        "\n",
        "Following definition captures the essence of Gaussian Process: \n",
        "\n",
        "A Gaussian process is a collection of random variables, any Gaussian process finite number of which have a joint Gaussian distribution.\n",
        "\n",
        "\n",
        "If we define mean function $m(x)$ and the covariance function mean function $k(x,x')$ of a real process $f(x)$ as:\n",
        "\\begin{equation}\n",
        "m(x) = E[f(x)]\n",
        "\\end{equation}\n",
        "\\begin{equation}\n",
        "k(x,x') = E[f(x)-m(x))(f(x')-m(x'))]\n",
        "\\end{equation}\n",
        "Then we can define GP can as:\n",
        "\\begin{equation}\n",
        "\\label{eq:gpmain}\n",
        "f(x) \\sim GP(m(x),k(x,x'))\n",
        "\\end{equation}\n",
        "\n",
        "\n",
        "GP can be fully determined by only declaring mean and covariance functions. Mean in most cases is set to value \"0\", because such a setting can be useful, simplifies matters and is not a difficult requirement to fulfill. Of course, there are examples\n",
        "where we would like to change the mean e.g. for better model interpretability or the \n",
        "specification of our prior. Covariance function (also called kernel function) represents\n",
        "a similarity between data points. Note that usually covariance is chosen from\n",
        "the set of already defined functions. The one should at least pick one, which represents\n",
        "prior beliefs of the problem. But in fact, covariance function can be any function, which\n",
        "has the property of generating a positive definite covariance matrix. Anyway, creating \n",
        "and defining new covariance functions, which will simultaneously be correct and have a\n",
        "practical usage, can be really difficult\n",
        "\n",
        "The most basic and common kernel function is Radial Basis Function (RBF), which is defined with the formula:\n",
        "\\begin{equation}\n",
        "\\label{eq:rbf}\n",
        "k\\left(x_{i}, x_{j}\\right)=\\exp \\left(-\\frac{d\\left(x_{i}, x_{j}\\right)^{2}}{2 l^{2}}\\right)\n",
        "\\end{equation}\n",
        "Its main property is that its value is usually only dependent on the distance from the specified point. The parameter which RBF kernel uses is $l$ as a characteristic length scale. RBF is infinitely differentiable. That means the GP with this kernel has a mean square derivatives for all orders. Other worth noting kernel, in terms of our classess is one from exponentiated quadratic family, where $\\rho$ is length-scale and $\\alpha$ is marginal deviation:\n",
        "$$\n",
        "k\\left(x_{1}, x_{2}\\right)=\\alpha^{2} \\exp \\left(-\\frac{1}{2}\\left(\\frac{\\left|x_{1}-x_{2}\\right|}{\\rho}\\right)^{2}\\right)\n",
        "$$\n",
        "Gaussian Process is growing in popularity of usage in domains connected with statistics and machine learning. It is especially efficient solution, while we are dealing with a problem of obtaining data e.g. for faulty cases or just an overall lack of comprehensive data and if we want to obtain not only prediction but also confidence interval. Main areas where GP is used for are: regression, prediction, classification and identification. On this classes we will focuse on a simple task of regression."
      ]
    },
    {
      "cell_type": "code",
      "execution_count": null,
      "id": "79f11e5d",
      "metadata": {
        "id": "79f11e5d"
      },
      "outputs": [],
      "source": [
        "# Import libraries\n",
        "import numpy as np\n",
        "from cmdstanpy import CmdStanModel\n"
      ]
    },
    {
      "cell_type": "markdown",
      "id": "8c5df2c0",
      "metadata": {
        "id": "8c5df2c0"
      },
      "source": [
        "### Task 1: simulating from Gaussian Process model"
      ]
    },
    {
      "cell_type": "markdown",
      "id": "1542b3b0",
      "metadata": {
        "id": "1542b3b0"
      },
      "source": [
        "To make any simulations, first you need a set of observations:"
      ]
    },
    {
      "cell_type": "code",
      "execution_count": null,
      "id": "87dc0f41",
      "metadata": {
        "id": "87dc0f41"
      },
      "outputs": [],
      "source": [
        "# Observed data\n",
        "x_obs = [-10, -8, -6, -4, -2, 0, 2, 4, 6, 8, 10]\n",
        "y_obs = [0.328572824089476, 4.20607004111644, 1.35507551134795,\n",
        "0.161608755204364, -5.42320349780782, -3.05851276224202, -0.0764172642034502,\n",
        "-4.55218472276499, -0.902226297922731, -5.8609833528976, -1.05854090910473]"
      ]
    },
    {
      "cell_type": "markdown",
      "id": "2c488b57",
      "metadata": {
        "id": "2c488b57"
      },
      "source": [
        "Model also needs sampling space and the indexes of where our observed data resides there. \n",
        "For your convenience, we provide them below:"
      ]
    },
    {
      "cell_type": "code",
      "execution_count": null,
      "id": "3cc64fea",
      "metadata": {
        "id": "3cc64fea"
      },
      "outputs": [],
      "source": [
        "x_predict = np.linspace(-11,11,551,endpoint=True)\n",
        "observed_idx = [26, 76, 126, 176, 226, 276, 326, 376, 426, 476, 526]"
      ]
    },
    {
      "cell_type": "markdown",
      "id": "3fc7b7ff",
      "metadata": {
        "id": "3fc7b7ff"
      },
      "source": [
        "In this example we are using kernel from exponentiated quadratic family, so we need to provide its hyperparameters (alpha and rho). Moreover, for sample generation, we would like to set a sigma value. Let's start with some arbitrarily selected parameters:"
      ]
    },
    {
      "cell_type": "code",
      "execution_count": null,
      "id": "a958c173",
      "metadata": {
        "id": "a958c173"
      },
      "outputs": [],
      "source": [
        "alpha = 3\n",
        "rho = 5.5\n",
        "sigma = 2"
      ]
    },
    {
      "cell_type": "markdown",
      "id": "5e110baf",
      "metadata": {
        "id": "5e110baf"
      },
      "source": [
        "Now we can create a model and sample from it. Do not forget to define proper data value based on requirements from stan model."
      ]
    },
    {
      "cell_type": "code",
      "execution_count": null,
      "id": "f969aa90",
      "metadata": {
        "id": "f969aa90",
        "outputId": "c8c070fe-fb0b-4503-c9bc-65ea5edd7c40"
      },
      "outputs": [
        {
          "name": "stderr",
          "output_type": "stream",
          "text": [
            "INFO:cmdstanpy:found newer exe file, not recompiling\n"
          ]
        }
      ],
      "source": [
        "data={'observed_idx':observed_idx, 'x_predict':x_predict, 'y_obs':y_obs, 'N_obs':11, 'N_predict':551, 'alpha':alpha, 'rho':rho, 'sigma':sigma}\n",
        "model = CmdStanModel(stan_file='gaussian_process.stan')"
      ]
    },
    {
      "cell_type": "code",
      "execution_count": null,
      "id": "69ce7ae5",
      "metadata": {
        "id": "69ce7ae5",
        "outputId": "dbe5466f-35dd-4e44-d1e2-4a55cfc672e6"
      },
      "outputs": [
        {
          "name": "stderr",
          "output_type": "stream",
          "text": [
            "INFO:cmdstanpy:CmdStan start processing\n",
            "chain 1 |\u001b[33m          \u001b[0m| 00:00 Status\n",
            "\u001b[A\n",
            "\n",
            "\u001b[A\u001b[A\n",
            "\u001b[A\n",
            "\n",
            "chain 1 |\u001b[33m▉         \u001b[0m| 00:01 Iteration:    1 / 2000 [  0%]  (Warmup)\n",
            "\n",
            "chain 1 |\u001b[33m█▎        \u001b[0m| 00:02 Iteration:  100 / 2000 [  5%]  (Warmup)\n",
            "chain 1 |\u001b[33m█▊        \u001b[0m| 00:03 Iteration:  200 / 2000 [ 10%]  (Warmup)\n",
            "\u001b[A\n",
            "\n",
            "\u001b[A\u001b[A\n",
            "\u001b[A\n",
            "\n",
            "chain 1 |\u001b[33m██▎       \u001b[0m| 00:04 Iteration:  300 / 2000 [ 15%]  (Warmup)\n",
            "chain 1 |\u001b[33m██▋       \u001b[0m| 00:05 Iteration:  400 / 2000 [ 20%]  (Warmup)\n",
            "\n",
            "\u001b[A\u001b[A\n",
            "\u001b[A\n",
            "\n",
            "chain 1 |\u001b[33m███▏      \u001b[0m| 00:06 Iteration:  500 / 2000 [ 25%]  (Warmup)\n",
            "\u001b[A\n",
            "\n",
            "chain 1 |\u001b[33m███▋      \u001b[0m| 00:07 Iteration:  600 / 2000 [ 30%]  (Warmup)\n",
            "\n",
            "\u001b[A\u001b[A\n",
            "chain 1 |\u001b[33m████      \u001b[0m| 00:08 Iteration:  700 / 2000 [ 35%]  (Warmup)\n",
            "\n",
            "\u001b[A\u001b[A\n",
            "chain 1 |\u001b[33m████▌     \u001b[0m| 00:09 Iteration:  800 / 2000 [ 40%]  (Warmup)\n",
            "\n",
            "\u001b[A\u001b[A\n",
            "chain 1 |\u001b[33m█████     \u001b[0m| 00:10 Iteration:  900 / 2000 [ 45%]  (Warmup)\n",
            "\n",
            "\u001b[A\u001b[A\n",
            "chain 1 |\u001b[34m█████▉    \u001b[0m| 00:11 Iteration: 1001 / 2000 [ 50%]  (Sampling)\n",
            "\n",
            "\u001b[A\u001b[A\n",
            "chain 1 |\u001b[34m██████▎   \u001b[0m| 00:12 Iteration: 1100 / 2000 [ 55%]  (Sampling)\n",
            "\n",
            "\u001b[A\u001b[A\n",
            "chain 1 |\u001b[34m██████▊   \u001b[0m| 00:13 Iteration: 1200 / 2000 [ 60%]  (Sampling)\n",
            "\n",
            "\u001b[A\u001b[A\n",
            "chain 1 |\u001b[34m███████▎  \u001b[0m| 00:14 Iteration: 1300 / 2000 [ 65%]  (Sampling)\n",
            "\n",
            "\u001b[A\u001b[A\n",
            "chain 1 |\u001b[34m███████▋  \u001b[0m| 00:15 Iteration: 1400 / 2000 [ 70%]  (Sampling)\n",
            "\n",
            "\u001b[A\u001b[A\n",
            "chain 1 |\u001b[34m████████▏ \u001b[0m| 00:16 Iteration: 1500 / 2000 [ 75%]  (Sampling)\n",
            "\n",
            "\u001b[A\u001b[A\n",
            "chain 1 |\u001b[34m████████▋ \u001b[0m| 00:17 Iteration: 1600 / 2000 [ 80%]  (Sampling)\n",
            "\n",
            "\u001b[A\u001b[A\n",
            "chain 1 |\u001b[34m█████████ \u001b[0m| 00:18 Iteration: 1700 / 2000 [ 85%]  (Sampling)\n",
            "\n",
            "\u001b[A\u001b[A\n",
            "chain 1 |\u001b[34m█████████▌\u001b[0m| 00:19 Iteration: 1800 / 2000 [ 90%]  (Sampling)\n",
            "\n",
            "\u001b[A\u001b[A\n",
            "chain 1 |\u001b[34m██████████\u001b[0m| 00:20 Sampling completed                       \n",
            "chain 2 |\u001b[34m██████████\u001b[0m| 00:20 Sampling completed                       \n",
            "chain 3 |\u001b[34m██████████\u001b[0m| 00:20 Sampling completed                       \n",
            "chain 4 |\u001b[34m██████████\u001b[0m| 00:20 Sampling completed                       "
          ]
        },
        {
          "name": "stdout",
          "output_type": "stream",
          "text": [
            "                                                                                                                                                                                                                                                                                                                                "
          ]
        },
        {
          "name": "stderr",
          "output_type": "stream",
          "text": [
            "\n",
            "INFO:cmdstanpy:CmdStan done processing.\n"
          ]
        },
        {
          "name": "stdout",
          "output_type": "stream",
          "text": [
            "\n"
          ]
        }
      ],
      "source": [
        "result = model.sample(data=data, chains = 4)"
      ]
    },
    {
      "cell_type": "markdown",
      "id": "852a2439",
      "metadata": {
        "id": "852a2439"
      },
      "source": [
        "Your task now is to:\n",
        "- plot few (about 5-10) samples generated from model\n",
        "- plot mean value from model with its confidence interval (standar deviation, using errorbar function)\n",
        "\n",
        "Also on each plot place points with obsserved data. Repeat the steps for two other parameters sets of your choice"
      ]
    },
    {
      "cell_type": "code",
      "execution_count": null,
      "id": "c6718e85",
      "metadata": {
        "id": "c6718e85",
        "outputId": "d0ccc8bb-f38c-4aac-bb41-c4edaf1aa8f3"
      },
      "outputs": [
        {
          "data": {
            "text/plain": [
              "[0.328572824089476,\n",
              " 4.20607004111644,\n",
              " 1.35507551134795,\n",
              " 0.161608755204364,\n",
              " -5.42320349780782,\n",
              " -3.05851276224202,\n",
              " -0.0764172642034502,\n",
              " -4.55218472276499,\n",
              " -0.902226297922731,\n",
              " -5.8609833528976,\n",
              " -1.05854090910473]"
            ]
          },
          "execution_count": 16,
          "metadata": {},
          "output_type": "execute_result"
        }
      ],
      "source": [
        "y_obs"
      ]
    },
    {
      "cell_type": "code",
      "execution_count": null,
      "id": "dc7c8cca",
      "metadata": {
        "id": "dc7c8cca",
        "outputId": "9cfde275-e74c-43ba-d0e2-8b4bdcb23141"
      },
      "outputs": [
        {
          "data": {
            "image/png": "[encoded data removed]",
            "text/plain": [
              "<Figure size 1080x1080 with 6 Axes>"
            ]
          },
          "metadata": {
            "needs_background": "light"
          },
          "output_type": "display_data"
        }
      ],
      "source": [
        "f_tilde = result.stan_variable('f_tilde')\n",
        "y_predict = result.stan_variable('y_predict')\n",
        "fig, axs = plt.subplots(3,2, figsize=(15,15))\n",
        "fig.suptitle('Samples')\n",
        "axs[0][0].hist(y_predict[0])\n",
        "axs[0][1].hist(y_predict[10])\n",
        "axs[1][0].hist(y_predict[20])\n",
        "axs[1][1].hist(y_predict[30])\n",
        "axs[2][0].hist(y_predict[40])\n",
        "axs[2][1].hist(y_predict[50])\n",
        "plt.show()"
      ]
    },
    {
      "cell_type": "code",
      "execution_count": null,
      "id": "caa91657",
      "metadata": {
        "id": "caa91657",
        "outputId": "e1afcd25-3977-4fbc-bd0e-338b92bb9ca4"
      },
      "outputs": [
        {
          "data": {
            "image/png": "[encoded data removed]",
            "text/plain": [
              "<Figure size 432x288 with 1 Axes>"
            ]
          },
          "metadata": {
            "needs_background": "light"
          },
          "output_type": "display_data"
        }
      ],
      "source": [
        "import matplotlib.pyplot as plt\n",
        "df = result.summary()\n",
        "\n",
        "mean = df['Mean'][1103:]\n",
        "std = df['StdDev'][1103:]\n",
        "x = np.arange(len(std))\n",
        "plt.errorbar(x, mean, yerr=std, uplims=True, lolims=True)\n",
        "plt.show()"
      ]
    },
    {
      "cell_type": "markdown",
      "id": "f5e16e84",
      "metadata": {
        "id": "f5e16e84"
      },
      "source": [
        "Other parameters"
      ]
    },
    {
      "cell_type": "code",
      "execution_count": null,
      "id": "6a4cb0bd",
      "metadata": {
        "id": "6a4cb0bd",
        "outputId": "adb1ff9a-b27d-4544-a3f5-7a36c063a927"
      },
      "outputs": [
        {
          "name": "stderr",
          "output_type": "stream",
          "text": [
            "INFO:cmdstanpy:found newer exe file, not recompiling\n",
            "INFO:cmdstanpy:CmdStan start processing\n",
            "chain 1 |\u001b[33m          \u001b[0m| 00:00 Status\n",
            "\u001b[A\n",
            "\n",
            "\u001b[A\u001b[A\n",
            "\n",
            "chain 1 |\u001b[33m▉         \u001b[0m| 00:01 Iteration:    1 / 2000 [  0%]  (Warmup)\n",
            "\u001b[A\n",
            "\n",
            "chain 1 |\u001b[33m█▎        \u001b[0m| 00:02 Iteration:  100 / 2000 [  5%]  (Warmup)\n",
            "\u001b[A\n",
            "\n",
            "chain 1 |\u001b[33m█▊        \u001b[0m| 00:03 Iteration:  200 / 2000 [ 10%]  (Warmup)\n",
            "\u001b[A\n",
            "\n",
            "chain 1 |\u001b[33m██▎       \u001b[0m| 00:04 Iteration:  300 / 2000 [ 15%]  (Warmup)\n",
            "\u001b[A\n",
            "\n",
            "chain 1 |\u001b[33m██▋       \u001b[0m| 00:05 Iteration:  400 / 2000 [ 20%]  (Warmup)\n",
            "\u001b[A\n",
            "\n",
            "chain 1 |\u001b[33m███▏      \u001b[0m| 00:06 Iteration:  500 / 2000 [ 25%]  (Warmup)\n",
            "\u001b[A\n",
            "\n",
            "chain 1 |\u001b[33m███▋      \u001b[0m| 00:07 Iteration:  600 / 2000 [ 30%]  (Warmup)\n",
            "\n",
            "\u001b[A\u001b[A\n",
            "chain 1 |\u001b[33m████      \u001b[0m| 00:07 Iteration:  700 / 2000 [ 35%]  (Warmup)\n",
            "\n",
            "\u001b[A\u001b[A\n",
            "chain 1 |\u001b[33m████▌     \u001b[0m| 00:08 Iteration:  800 / 2000 [ 40%]  (Warmup)\n",
            "\n",
            "\u001b[A\u001b[A\n",
            "chain 1 |\u001b[33m█████     \u001b[0m| 00:09 Iteration:  900 / 2000 [ 45%]  (Warmup)\n",
            "\u001b[A\n",
            "\n",
            "chain 1 |\u001b[34m█████▉    \u001b[0m| 00:10 Iteration: 1001 / 2000 [ 50%]  (Sampling)\n",
            "\u001b[A\n",
            "\n",
            "chain 1 |\u001b[34m██████▎   \u001b[0m| 00:11 Iteration: 1100 / 2000 [ 55%]  (Sampling)\n",
            "\u001b[A\n",
            "\n",
            "chain 1 |\u001b[34m██████▊   \u001b[0m| 00:12 Iteration: 1200 / 2000 [ 60%]  (Sampling)\n",
            "\n",
            "\u001b[A\u001b[A\n",
            "chain 1 |\u001b[34m███████▎  \u001b[0m| 00:13 Iteration: 1300 / 2000 [ 65%]  (Sampling)\n",
            "\n",
            "\u001b[A\u001b[A\n",
            "chain 1 |\u001b[34m███████▋  \u001b[0m| 00:14 Iteration: 1400 / 2000 [ 70%]  (Sampling)\n",
            "\n",
            "\u001b[A\u001b[A\n",
            "chain 1 |\u001b[34m████████▏ \u001b[0m| 00:15 Iteration: 1500 / 2000 [ 75%]  (Sampling)\n",
            "\n",
            "\u001b[A\u001b[A\n",
            "chain 1 |\u001b[34m████████▋ \u001b[0m| 00:16 Iteration: 1600 / 2000 [ 80%]  (Sampling)\n",
            "\n",
            "\u001b[A\u001b[A\n",
            "chain 1 |\u001b[34m█████████ \u001b[0m| 00:17 Iteration: 1700 / 2000 [ 85%]  (Sampling)\n",
            "\n",
            "\u001b[A\u001b[A\n",
            "chain 1 |\u001b[34m█████████▌\u001b[0m| 00:18 Iteration: 1800 / 2000 [ 90%]  (Sampling)\n",
            "\n",
            "\u001b[A\u001b[A\n",
            "chain 1 |\u001b[34m██████████\u001b[0m| 00:19 Iteration: 1900 / 2000 [ 95%]  (Sampling)\n",
            "chain 1 |\u001b[34m██████████\u001b[0m| 00:19 Sampling completed                       \n",
            "chain 2 |\u001b[34m██████████\u001b[0m| 00:19 Sampling completed                       \n",
            "chain 3 |\u001b[34m██████████\u001b[0m| 00:19 Sampling completed                       \n",
            "chain 4 |\u001b[34m██████████\u001b[0m| 00:19 Sampling completed                       "
          ]
        },
        {
          "name": "stdout",
          "output_type": "stream",
          "text": [
            "                                                                                                                                                                                                                                                                                                                                "
          ]
        },
        {
          "name": "stderr",
          "output_type": "stream",
          "text": [
            "\n",
            "INFO:cmdstanpy:CmdStan done processing.\n"
          ]
        },
        {
          "name": "stdout",
          "output_type": "stream",
          "text": [
            "\n"
          ]
        },
        {
          "data": {
            "image/png": "[encoded data removed]",
            "text/plain": [
              "<Figure size 1080x1080 with 6 Axes>"
            ]
          },
          "metadata": {
            "needs_background": "light"
          },
          "output_type": "display_data"
        },
        {
          "data": {
            "image/png": "[encoded data removed]",
            "text/plain": [
              "<Figure size 432x288 with 1 Axes>"
            ]
          },
          "metadata": {
            "needs_background": "light"
          },
          "output_type": "display_data"
        }
      ],
      "source": [
        "alpha = 1\n",
        "rho = 2\n",
        "sigma = 3\n",
        "\n",
        "data={'observed_idx':observed_idx, 'x_predict':x_predict, 'y_obs':y_obs, 'N_obs':11, 'N_predict':551, 'alpha':alpha, 'rho':rho, 'sigma':sigma}\n",
        "model = CmdStanModel(stan_file='gaussian_process.stan')\n",
        "\n",
        "result = model.sample(data=data, chains = 4)\n",
        "\n",
        "f_tilde = result.stan_variable('f_tilde')\n",
        "y_predict = result.stan_variable('y_predict')\n",
        "fig, axs = plt.subplots(3,2, figsize=(15,15))\n",
        "fig.suptitle('Samples')\n",
        "axs[0][0].hist(y_predict[0])\n",
        "axs[0][1].hist(y_predict[10])\n",
        "axs[1][0].hist(y_predict[20])\n",
        "axs[1][1].hist(y_predict[30])\n",
        "axs[2][0].hist(y_predict[40])\n",
        "axs[2][1].hist(y_predict[50])\n",
        "plt.show()\n",
        "\n",
        "df = result.summary()\n",
        "\n",
        "mean = df['Mean'][1103:]\n",
        "std = df['StdDev'][1103:]\n",
        "x = np.arange(len(std))\n",
        "plt.errorbar(x, mean, yerr=std, uplims=True, lolims=True)\n",
        "plt.show()"
      ]
    },
    {
      "cell_type": "code",
      "execution_count": null,
      "id": "d384e5cf",
      "metadata": {
        "id": "d384e5cf",
        "outputId": "af96e443-8ac1-4118-955a-5a37ae9eeeae"
      },
      "outputs": [
        {
          "name": "stderr",
          "output_type": "stream",
          "text": [
            "INFO:cmdstanpy:found newer exe file, not recompiling\n",
            "INFO:cmdstanpy:CmdStan start processing\n",
            "chain 1 |\u001b[33m          \u001b[0m| 00:00 Status\n",
            "\u001b[A\n",
            "\n",
            "\u001b[A\u001b[A\n",
            "\n",
            "\u001b[A\u001b[A\n",
            "chain 1 |\u001b[33m▉         \u001b[0m| 00:01 Iteration:    1 / 2000 [  0%]  (Warmup)\n",
            "\n",
            "\u001b[A\u001b[A\n",
            "chain 1 |\u001b[33m█▎        \u001b[0m| 00:02 Iteration:  100 / 2000 [  5%]  (Warmup)\n",
            "\n",
            "\u001b[A\u001b[A\n",
            "chain 1 |\u001b[33m█▊        \u001b[0m| 00:03 Iteration:  200 / 2000 [ 10%]  (Warmup)\n",
            "\n",
            "\u001b[A\u001b[A\n",
            "chain 1 |\u001b[33m██▎       \u001b[0m| 00:04 Iteration:  300 / 2000 [ 15%]  (Warmup)\n",
            "\n",
            "\u001b[A\u001b[A\n",
            "chain 1 |\u001b[33m██▋       \u001b[0m| 00:05 Iteration:  400 / 2000 [ 20%]  (Warmup)\n",
            "\n",
            "\u001b[A\u001b[A\n",
            "chain 1 |\u001b[33m███▏      \u001b[0m| 00:06 Iteration:  500 / 2000 [ 25%]  (Warmup)\n",
            "\n",
            "\u001b[A\u001b[A\n",
            "chain 1 |\u001b[33m███▋      \u001b[0m| 00:07 Iteration:  600 / 2000 [ 30%]  (Warmup)\n",
            "\n",
            "\u001b[A\u001b[A\n",
            "chain 1 |\u001b[33m████      \u001b[0m| 00:08 Iteration:  700 / 2000 [ 35%]  (Warmup)\n",
            "\n",
            "\u001b[A\u001b[A\n",
            "chain 1 |\u001b[33m████▌     \u001b[0m| 00:09 Iteration:  800 / 2000 [ 40%]  (Warmup)\n",
            "\n",
            "\u001b[A\u001b[A\n",
            "chain 1 |\u001b[33m█████     \u001b[0m| 00:10 Iteration:  900 / 2000 [ 45%]  (Warmup)\n",
            "\n",
            "\u001b[A\u001b[A\n",
            "chain 1 |\u001b[34m█████▉    \u001b[0m| 00:11 Iteration: 1001 / 2000 [ 50%]  (Sampling)\n",
            "\n",
            "\u001b[A\u001b[A\n",
            "chain 1 |\u001b[34m██████▎   \u001b[0m| 00:12 Iteration: 1100 / 2000 [ 55%]  (Sampling)\n",
            "\n",
            "\u001b[A\u001b[A\n",
            "chain 1 |\u001b[34m██████▊   \u001b[0m| 00:13 Iteration: 1200 / 2000 [ 60%]  (Sampling)\n",
            "\n",
            "\u001b[A\u001b[A\n",
            "chain 1 |\u001b[34m███████▎  \u001b[0m| 00:14 Iteration: 1300 / 2000 [ 65%]  (Sampling)\n",
            "\n",
            "\u001b[A\u001b[A\n",
            "chain 1 |\u001b[34m███████▋  \u001b[0m| 00:15 Iteration: 1400 / 2000 [ 70%]  (Sampling)\n",
            "\n",
            "\u001b[A\u001b[A\n",
            "chain 1 |\u001b[34m████████▏ \u001b[0m| 00:17 Iteration: 1500 / 2000 [ 75%]  (Sampling)\n",
            "\n",
            "\u001b[A\u001b[A\n",
            "chain 1 |\u001b[34m████████▋ \u001b[0m| 00:19 Iteration: 1600 / 2000 [ 80%]  (Sampling)\n",
            "\n",
            "\u001b[A\u001b[A\n",
            "chain 1 |\u001b[34m█████████ \u001b[0m| 00:20 Iteration: 1700 / 2000 [ 85%]  (Sampling)\n",
            "\n",
            "\u001b[A\u001b[A\n",
            "chain 1 |\u001b[34m█████████▌\u001b[0m| 00:22 Iteration: 1800 / 2000 [ 90%]  (Sampling)\n",
            "\n",
            "\u001b[A\u001b[A\n",
            "chain 1 |\u001b[34m██████████\u001b[0m| 00:23 Sampling completed                       \n",
            "chain 2 |\u001b[34m██████████\u001b[0m| 00:23 Sampling completed                       \n",
            "chain 3 |\u001b[34m██████████\u001b[0m| 00:23 Sampling completed                       \n",
            "chain 4 |\u001b[34m██████████\u001b[0m| 00:23 Sampling completed                       "
          ]
        },
        {
          "name": "stdout",
          "output_type": "stream",
          "text": [
            "                                                                                                                                                                                                                                                                                                                                "
          ]
        },
        {
          "name": "stderr",
          "output_type": "stream",
          "text": [
            "\n",
            "INFO:cmdstanpy:CmdStan done processing.\n"
          ]
        },
        {
          "name": "stdout",
          "output_type": "stream",
          "text": [
            "\n"
          ]
        },
        {
          "data": {
            "image/png": "[encoded data removed]",
            "text/plain": [
              "<Figure size 1080x1080 with 6 Axes>"
            ]
          },
          "metadata": {
            "needs_background": "light"
          },
          "output_type": "display_data"
        },
        {
          "data": {
            "image/png": "[encoded data removed]",
            "text/plain": [
              "<Figure size 432x288 with 1 Axes>"
            ]
          },
          "metadata": {
            "needs_background": "light"
          },
          "output_type": "display_data"
        }
      ],
      "source": [
        "alpha = 10\n",
        "rho = 10\n",
        "sigma = 10\n",
        "\n",
        "data={'observed_idx':observed_idx, 'x_predict':x_predict, 'y_obs':y_obs, 'N_obs':11, 'N_predict':551, 'alpha':alpha, 'rho':rho, 'sigma':sigma}\n",
        "model = CmdStanModel(stan_file='gaussian_process.stan')\n",
        "\n",
        "result = model.sample(data=data, chains = 4)\n",
        "\n",
        "f_tilde = result.stan_variable('f_tilde')\n",
        "y_predict = result.stan_variable('y_predict')\n",
        "fig, axs = plt.subplots(3,2, figsize=(15,15))\n",
        "fig.suptitle('Samples')\n",
        "axs[0][0].hist(y_predict[0])\n",
        "axs[0][1].hist(y_predict[10])\n",
        "axs[1][0].hist(y_predict[20])\n",
        "axs[1][1].hist(y_predict[30])\n",
        "axs[2][0].hist(y_predict[40])\n",
        "axs[2][1].hist(y_predict[50])\n",
        "plt.show()\n",
        "\n",
        "df = result.summary()\n",
        "\n",
        "mean = df['Mean'][1103:]\n",
        "std = df['StdDev'][1103:]\n",
        "x = np.arange(len(std))\n",
        "plt.errorbar(x, mean, yerr=std, uplims=True, lolims=True)\n",
        "plt.show()"
      ]
    },
    {
      "cell_type": "markdown",
      "id": "612ecb18",
      "metadata": {
        "id": "612ecb18"
      },
      "source": [
        "### Task 2: optimize hyperparameters"
      ]
    },
    {
      "cell_type": "markdown",
      "id": "b6cf4f85",
      "metadata": {
        "id": "b6cf4f85"
      },
      "source": [
        "To achive better results of GP fitting for our observed data, we need to oprimize its parameters. We can do that by using maximum marginal likelihood estimation. It can be done by placing parameters in \"parameter\" block in stan model and using \"optimize\" method."
      ]
    },
    {
      "cell_type": "code",
      "execution_count": null,
      "id": "67c710bb",
      "metadata": {
        "id": "67c710bb",
        "outputId": "d39e8c34-5d00-4b8d-ac61-a1743cc542f6"
      },
      "outputs": [
        {
          "name": "stderr",
          "output_type": "stream",
          "text": [
            "INFO:cmdstanpy:found newer exe file, not recompiling\n"
          ]
        }
      ],
      "source": [
        "model2 = CmdStanModel(stan_file='gaussian_process_optimize.stan') "
      ]
    },
    {
      "cell_type": "code",
      "execution_count": null,
      "id": "b212b612",
      "metadata": {
        "id": "b212b612",
        "outputId": "474b4ace-3030-4d81-c4da-f64b97b05478"
      },
      "outputs": [
        {
          "name": "stderr",
          "output_type": "stream",
          "text": [
            "INFO:cmdstanpy:Chain [1] start processing\n",
            "INFO:cmdstanpy:Chain [1] done processing\n"
          ]
        }
      ],
      "source": [
        "data={'x_obs':x_obs, 'y_obs':y_obs, 'N_obs':11, 'alpha':alpha, 'rho':rho, 'sigma':sigma} \n",
        "result2 = model2.optimize(data=data, seed=5838298)"
      ]
    },
    {
      "cell_type": "markdown",
      "id": "694aedb2",
      "metadata": {
        "id": "694aedb2"
      },
      "source": [
        "Optimize parameters with mentioned method and generate new samples with model from task 1. Of course use just aquired parameters. Do not forget to specify data variable based on stan model. \n",
        "What can your say about results in comparison to ones from task 1?\n",
        "Did the GP perform well in the task of regression? "
      ]
    },
    {
      "cell_type": "code",
      "execution_count": null,
      "id": "3ef51b7d",
      "metadata": {
        "id": "3ef51b7d",
        "outputId": "586b3d26-a635-42bc-ae68-945b923e08f2"
      },
      "outputs": [
        {
          "data": {
            "text/html": [
              "<div>\n",
              "<style scoped>\n",
              "    .dataframe tbody tr th:only-of-type {\n",
              "        vertical-align: middle;\n",
              "    }\n",
              "\n",
              "    .dataframe tbody tr th {\n",
              "        vertical-align: top;\n",
              "    }\n",
              "\n",
              "    .dataframe thead th {\n",
              "        text-align: right;\n",
              "    }\n",
              "</style>\n",
              "<table border=\"1\" class=\"dataframe\">\n",
              "  <thead>\n",
              "    <tr style=\"text-align: right;\">\n",
              "      <th></th>\n",
              "      <th>lp__</th>\n",
              "      <th>rho</th>\n",
              "      <th>alpha</th>\n",
              "      <th>sigma</th>\n",
              "    </tr>\n",
              "  </thead>\n",
              "  <tbody>\n",
              "    <tr>\n",
              "      <th>0</th>\n",
              "      <td>-18.0116</td>\n",
              "      <td>1.13658</td>\n",
              "      <td>3.1811</td>\n",
              "      <td>0.196539</td>\n",
              "    </tr>\n",
              "  </tbody>\n",
              "</table>\n",
              "</div>"
            ],
            "text/plain": [
              "      lp__      rho   alpha     sigma\n",
              "0 -18.0116  1.13658  3.1811  0.196539"
            ]
          },
          "execution_count": 37,
          "metadata": {},
          "output_type": "execute_result"
        }
      ],
      "source": [
        "result2.optimized_params_pd"
      ]
    },
    {
      "cell_type": "code",
      "execution_count": null,
      "id": "87d53a6a",
      "metadata": {
        "id": "87d53a6a"
      },
      "outputs": [],
      "source": [
        "rho = result2.optimized_params_pd['rho'][0]\n",
        "alpha = result2.optimized_params_pd['alpha'][0]\n",
        "sigma = result2.optimized_params_pd['sigma'][0]"
      ]
    },
    {
      "cell_type": "code",
      "execution_count": null,
      "id": "58e1835e",
      "metadata": {
        "id": "58e1835e",
        "outputId": "a8d79be0-0141-4088-fff1-d5d990ac56bf"
      },
      "outputs": [
        {
          "name": "stderr",
          "output_type": "stream",
          "text": [
            "INFO:cmdstanpy:found newer exe file, not recompiling\n",
            "INFO:cmdstanpy:CmdStan start processing\n",
            "chain 1 |\u001b[33m          \u001b[0m| 00:00 Status\n",
            "\u001b[A\n",
            "\n",
            "\u001b[A\u001b[A\n",
            "\n",
            "chain 1 |\u001b[33m▉         \u001b[0m| 00:05 Iteration:    1 / 2000 [  0%]  (Warmup)\n",
            "chain 1 |\u001b[33m█▎        \u001b[0m| 00:10 Iteration:  100 / 2000 [  5%]  (Warmup)\n",
            "\u001b[A\n",
            "\n",
            "chain 1 |\u001b[33m█▊        \u001b[0m| 00:15 Iteration:  200 / 2000 [ 10%]  (Warmup)\n",
            "\u001b[A\n",
            "\n",
            "chain 1 |\u001b[33m██▎       \u001b[0m| 00:20 Iteration:  300 / 2000 [ 15%]  (Warmup)\n",
            "\u001b[A\n",
            "\n",
            "chain 1 |\u001b[33m██▋       \u001b[0m| 00:26 Iteration:  400 / 2000 [ 20%]  (Warmup)\n",
            "\u001b[A\n",
            "\n",
            "chain 1 |\u001b[33m███▏      \u001b[0m| 00:31 Iteration:  500 / 2000 [ 25%]  (Warmup)\n",
            "\u001b[A\n",
            "\n",
            "chain 1 |\u001b[33m███▋      \u001b[0m| 00:35 Iteration:  600 / 2000 [ 30%]  (Warmup)\n",
            "\u001b[A\n",
            "\n",
            "chain 1 |\u001b[33m████      \u001b[0m| 00:39 Iteration:  700 / 2000 [ 35%]  (Warmup)\n",
            "\n",
            "\u001b[A\u001b[A\n",
            "chain 1 |\u001b[33m████▌     \u001b[0m| 00:43 Iteration:  800 / 2000 [ 40%]  (Warmup)\n",
            "\n",
            "\u001b[A\u001b[A\n",
            "chain 1 |\u001b[33m█████     \u001b[0m| 00:49 Iteration:  900 / 2000 [ 45%]  (Warmup)\n",
            "\n",
            "\u001b[A\u001b[A\n",
            "\u001b[A\n",
            "chain 1 |\u001b[34m██████▎   \u001b[0m| 00:59 Iteration: 1100 / 2000 [ 55%]  (Sampling)\n",
            "\n",
            "\u001b[A\u001b[A\n",
            "chain 1 |\u001b[34m██████▊   \u001b[0m| 01:05 Iteration: 1200 / 2000 [ 60%]  (Sampling)\n",
            "\n",
            "\u001b[A\u001b[A\n",
            "chain 1 |\u001b[34m███████▎  \u001b[0m| 01:09 Iteration: 1300 / 2000 [ 65%]  (Sampling)\n",
            "\n",
            "chain 1 |\u001b[34m███████▋  \u001b[0m| 01:14 Iteration: 1400 / 2000 [ 70%]  (Sampling)\n",
            "chain 1 |\u001b[34m████████▏ \u001b[0m| 01:19 Iteration: 1500 / 2000 [ 75%]  (Sampling)\n",
            "\n",
            "\u001b[A\u001b[A\n",
            "chain 1 |\u001b[34m████████▋ \u001b[0m| 01:24 Iteration: 1600 / 2000 [ 80%]  (Sampling)\n",
            "\n",
            "\u001b[A\u001b[A\n",
            "chain 1 |\u001b[34m█████████▌\u001b[0m| 01:34 Iteration: 1800 / 2000 [ 90%]  (Sampling)\n",
            "\n",
            "\u001b[A\u001b[A\n",
            "chain 1 |\u001b[34m██████████\u001b[0m| 01:39 Iteration: 1900 / 2000 [ 95%]  (Sampling)\n",
            "\n",
            "\u001b[A\u001b[A\n",
            "\u001b[A\n",
            "\n",
            "\u001b[A\u001b[A\n",
            "\u001b[A\n",
            "\n",
            "\u001b[A\u001b[A\n",
            "\u001b[A\n",
            "\n",
            "\u001b[A\u001b[A\n",
            "chain 1 |\u001b[34m██████████\u001b[0m| 01:52 Sampling completed                       \n",
            "chain 2 |\u001b[34m██████████\u001b[0m| 01:52 Sampling completed                       \n",
            "chain 3 |\u001b[34m██████████\u001b[0m| 01:52 Sampling completed                       \n",
            "chain 4 |\u001b[34m██████████\u001b[0m| 01:52 Sampling completed                       "
          ]
        },
        {
          "name": "stdout",
          "output_type": "stream",
          "text": [
            "                                                                                                                                                                                                                                                                                                                                "
          ]
        },
        {
          "name": "stderr",
          "output_type": "stream",
          "text": [
            "\n",
            "INFO:cmdstanpy:CmdStan done processing.\n"
          ]
        },
        {
          "name": "stdout",
          "output_type": "stream",
          "text": [
            "\n"
          ]
        },
        {
          "data": {
            "image/png": "[encoded data removed]",
            "text/plain": [
              "<Figure size 1080x1080 with 6 Axes>"
            ]
          },
          "metadata": {
            "needs_background": "light"
          },
          "output_type": "display_data"
        },
        {
          "data": {
            "image/png": "[encoded data removed]",
            "text/plain": [
              "<Figure size 432x288 with 1 Axes>"
            ]
          },
          "metadata": {
            "needs_background": "light"
          },
          "output_type": "display_data"
        }
      ],
      "source": [
        "# Let's run task 1 for optimized parameters...\n",
        "\n",
        "data={'observed_idx':observed_idx, 'x_predict':x_predict, 'y_obs':y_obs, 'N_obs':11, 'N_predict':551, 'alpha':alpha, 'rho':rho, 'sigma':sigma}\n",
        "model = CmdStanModel(stan_file='gaussian_process.stan')\n",
        "\n",
        "result = model.sample(data=data, chains = 4)\n",
        "\n",
        "f_tilde = result.stan_variable('f_tilde')\n",
        "y_predict = result.stan_variable('y_predict')\n",
        "fig, axs = plt.subplots(3,2, figsize=(15,15))\n",
        "fig.suptitle('Samples')\n",
        "axs[0][0].hist(y_predict[0])\n",
        "axs[0][1].hist(y_predict[10])\n",
        "axs[1][0].hist(y_predict[20])\n",
        "axs[1][1].hist(y_predict[30])\n",
        "axs[2][0].hist(y_predict[40])\n",
        "axs[2][1].hist(y_predict[50])\n",
        "plt.show()\n",
        "\n",
        "df = result.summary()\n",
        "\n",
        "mean = df['Mean'][1103:]\n",
        "std = df['StdDev'][1103:]\n",
        "x = np.arange(len(std))\n",
        "plt.errorbar(x, mean, yerr=std, uplims=True, lolims=True)\n",
        "plt.show()"
      ]
    }
  ],
  "metadata": {
    "colab": {
      "name": "lab6.ipynb",
      "provenance": []
    },
    "kernelspec": {
      "display_name": "Python 3 (ipykernel)",
      "language": "python",
      "name": "python3"
    },
    "language_info": {
      "codemirror_mode": {
        "name": "ipython",
        "version": 3
      },
      "file_extension": ".py",
      "mimetype": "text/x-python",
      "name": "python",
      "nbconvert_exporter": "python",
      "pygments_lexer": "ipython3",
      "version": "3.9.0"
    }
  },
  "nbformat": 4,
  "nbformat_minor": 5
}
